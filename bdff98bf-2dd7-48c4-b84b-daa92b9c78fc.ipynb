{
 "cells": [
  {
   "cell_type": "code",
   "execution_count": 1,
   "metadata": {},
   "outputs": [],
   "source": [
    "# Impor library\n",
    "import pandas as pd\n",
    "import numpy as np\n",
    "import seaborn as sns\n",
    "import matplotlib.pyplot as plt\n",
    "from sklearn.model_selection import train_test_split\n",
    "from sklearn.preprocessing import StandardScaler\n",
    "from sklearn.metrics import confusion_matrix, accuracy_score, precision_score, recall_score, classification_report, roc_auc_score, roc_curve, f1_score\n",
    "from sklearn.ensemble import RandomForestClassifier"
   ]
  },
  {
   "cell_type": "code",
   "execution_count": 2,
   "metadata": {},
   "outputs": [],
   "source": [
    "# Load dataset\n",
    "file_path = '/datasets/Churn.csv'  \n",
    "data = pd.read_csv(file_path)"
   ]
  },
  {
   "cell_type": "code",
   "execution_count": 3,
   "metadata": {},
   "outputs": [
    {
     "name": "stdout",
     "output_type": "stream",
     "text": [
      "<class 'pandas.core.frame.DataFrame'>\n",
      "RangeIndex: 10000 entries, 0 to 9999\n",
      "Data columns (total 14 columns):\n",
      " #   Column           Non-Null Count  Dtype  \n",
      "---  ------           --------------  -----  \n",
      " 0   RowNumber        10000 non-null  int64  \n",
      " 1   CustomerId       10000 non-null  int64  \n",
      " 2   Surname          10000 non-null  object \n",
      " 3   CreditScore      10000 non-null  int64  \n",
      " 4   Geography        10000 non-null  object \n",
      " 5   Gender           10000 non-null  object \n",
      " 6   Age              10000 non-null  int64  \n",
      " 7   Tenure           9091 non-null   float64\n",
      " 8   Balance          10000 non-null  float64\n",
      " 9   NumOfProducts    10000 non-null  int64  \n",
      " 10  HasCrCard        10000 non-null  int64  \n",
      " 11  IsActiveMember   10000 non-null  int64  \n",
      " 12  EstimatedSalary  10000 non-null  float64\n",
      " 13  Exited           10000 non-null  int64  \n",
      "dtypes: float64(3), int64(8), object(3)\n",
      "memory usage: 1.1+ MB\n"
     ]
    }
   ],
   "source": [
    "# Eksplorasi Data\n",
    "# Melihat informasi umum tentang dataset\n",
    "data.info()"
   ]
  },
  {
   "cell_type": "markdown",
   "metadata": {},
   "source": [
    "- Jumlah Baris dan Kolom:\n",
    "\n",
    "Dataset terdiri dari 10,000 baris (entries) dan 14 kolom (columns).\n",
    "\n",
    "RangeIndex menunjukkan bahwa indeks baris berkisar dari 0 hingga 9999.\n",
    "\n",
    "- Nama Kolom dan Tipe Data:\n",
    "\n",
    "Terdapat beberapa tipe data yang berbeda, antara lain:\n",
    "\n",
    "int64: Tipe data untuk kolom dengan nilai integer (misalnya, CustomerId, CreditScore, Age).\n",
    "\n",
    "float64: Tipe data untuk kolom dengan nilai desimal (misalnya, Tenure, Balance, EstimatedSalary).\n",
    "\n",
    "object: Tipe data untuk kolom dengan nilai objek (misalnya, Surname, Geography, Gender).\n",
    "\n",
    "- Kolom dengan Nilai Null:\n",
    "\n",
    "Kolom Tenure memiliki nilai null (NaN) pada beberapa baris. Jumlah nilai non-null (non-missing) untuk kolom ini adalah 9091 dari 10,000, yang berarti ada beberapa baris yang tidak memiliki nilai untuk kolom Tenure.\n",
    "\n",
    "- Beberapa hal yang perlu diperhatikan dan mungkin perlu diatasi selama proses persiapan data:\n",
    "\n",
    "Kolom dengan Nilai Null: Perlu dipertimbangkan bagaimana menangani nilai null pada kolom Tenure. Opsi termasuk menghapus baris-baris yang memiliki nilai null atau mengisi nilai null dengan suatu strategi, seperti menggunakan nilai rata-rata kolom.\n",
    "\n",
    "Tipe Data Objek: Model machine learning tidak dapat bekerja dengan nilai objek. Oleh karena itu, perlu dijelaskan bagaimana kita akan menangani kolom-kolom dengan tipe data objek (seperti Geography, Gender, Surname) selama proses preprocessing.\n"
   ]
  },
  {
   "cell_type": "code",
   "execution_count": 4,
   "metadata": {
    "scrolled": true
   },
   "outputs": [
    {
     "data": {
      "text/html": [
       "<div>\n",
       "<style scoped>\n",
       "    .dataframe tbody tr th:only-of-type {\n",
       "        vertical-align: middle;\n",
       "    }\n",
       "\n",
       "    .dataframe tbody tr th {\n",
       "        vertical-align: top;\n",
       "    }\n",
       "\n",
       "    .dataframe thead th {\n",
       "        text-align: right;\n",
       "    }\n",
       "</style>\n",
       "<table border=\"1\" class=\"dataframe\">\n",
       "  <thead>\n",
       "    <tr style=\"text-align: right;\">\n",
       "      <th></th>\n",
       "      <th>RowNumber</th>\n",
       "      <th>CustomerId</th>\n",
       "      <th>Surname</th>\n",
       "      <th>CreditScore</th>\n",
       "      <th>Geography</th>\n",
       "      <th>Gender</th>\n",
       "      <th>Age</th>\n",
       "      <th>Tenure</th>\n",
       "      <th>Balance</th>\n",
       "      <th>NumOfProducts</th>\n",
       "      <th>HasCrCard</th>\n",
       "      <th>IsActiveMember</th>\n",
       "      <th>EstimatedSalary</th>\n",
       "      <th>Exited</th>\n",
       "    </tr>\n",
       "  </thead>\n",
       "  <tbody>\n",
       "    <tr>\n",
       "      <th>8599</th>\n",
       "      <td>8600</td>\n",
       "      <td>15708713</td>\n",
       "      <td>Hill</td>\n",
       "      <td>633</td>\n",
       "      <td>France</td>\n",
       "      <td>Male</td>\n",
       "      <td>35</td>\n",
       "      <td>3.0</td>\n",
       "      <td>0.00</td>\n",
       "      <td>2</td>\n",
       "      <td>1</td>\n",
       "      <td>1</td>\n",
       "      <td>36249.76</td>\n",
       "      <td>0</td>\n",
       "    </tr>\n",
       "    <tr>\n",
       "      <th>3574</th>\n",
       "      <td>3575</td>\n",
       "      <td>15683375</td>\n",
       "      <td>Compton</td>\n",
       "      <td>541</td>\n",
       "      <td>France</td>\n",
       "      <td>Female</td>\n",
       "      <td>32</td>\n",
       "      <td>NaN</td>\n",
       "      <td>0.00</td>\n",
       "      <td>1</td>\n",
       "      <td>1</td>\n",
       "      <td>1</td>\n",
       "      <td>114951.42</td>\n",
       "      <td>0</td>\n",
       "    </tr>\n",
       "    <tr>\n",
       "      <th>4725</th>\n",
       "      <td>4726</td>\n",
       "      <td>15734987</td>\n",
       "      <td>Robertson</td>\n",
       "      <td>658</td>\n",
       "      <td>France</td>\n",
       "      <td>Female</td>\n",
       "      <td>43</td>\n",
       "      <td>7.0</td>\n",
       "      <td>140260.36</td>\n",
       "      <td>2</td>\n",
       "      <td>1</td>\n",
       "      <td>0</td>\n",
       "      <td>2748.72</td>\n",
       "      <td>0</td>\n",
       "    </tr>\n",
       "    <tr>\n",
       "      <th>5792</th>\n",
       "      <td>5793</td>\n",
       "      <td>15795186</td>\n",
       "      <td>Leonard</td>\n",
       "      <td>562</td>\n",
       "      <td>France</td>\n",
       "      <td>Male</td>\n",
       "      <td>38</td>\n",
       "      <td>5.0</td>\n",
       "      <td>0.00</td>\n",
       "      <td>1</td>\n",
       "      <td>1</td>\n",
       "      <td>0</td>\n",
       "      <td>115700.20</td>\n",
       "      <td>0</td>\n",
       "    </tr>\n",
       "    <tr>\n",
       "      <th>4340</th>\n",
       "      <td>4341</td>\n",
       "      <td>15692631</td>\n",
       "      <td>Bogdanova</td>\n",
       "      <td>577</td>\n",
       "      <td>Spain</td>\n",
       "      <td>Female</td>\n",
       "      <td>44</td>\n",
       "      <td>8.0</td>\n",
       "      <td>115557.00</td>\n",
       "      <td>1</td>\n",
       "      <td>0</td>\n",
       "      <td>1</td>\n",
       "      <td>127506.76</td>\n",
       "      <td>0</td>\n",
       "    </tr>\n",
       "    <tr>\n",
       "      <th>4314</th>\n",
       "      <td>4315</td>\n",
       "      <td>15582276</td>\n",
       "      <td>Greco</td>\n",
       "      <td>638</td>\n",
       "      <td>France</td>\n",
       "      <td>Male</td>\n",
       "      <td>34</td>\n",
       "      <td>NaN</td>\n",
       "      <td>133501.36</td>\n",
       "      <td>1</td>\n",
       "      <td>0</td>\n",
       "      <td>1</td>\n",
       "      <td>155643.04</td>\n",
       "      <td>0</td>\n",
       "    </tr>\n",
       "    <tr>\n",
       "      <th>2608</th>\n",
       "      <td>2609</td>\n",
       "      <td>15733768</td>\n",
       "      <td>Hou</td>\n",
       "      <td>600</td>\n",
       "      <td>France</td>\n",
       "      <td>Male</td>\n",
       "      <td>32</td>\n",
       "      <td>1.0</td>\n",
       "      <td>0.00</td>\n",
       "      <td>1</td>\n",
       "      <td>1</td>\n",
       "      <td>1</td>\n",
       "      <td>101986.16</td>\n",
       "      <td>0</td>\n",
       "    </tr>\n",
       "    <tr>\n",
       "      <th>3394</th>\n",
       "      <td>3395</td>\n",
       "      <td>15668460</td>\n",
       "      <td>Bellucci</td>\n",
       "      <td>466</td>\n",
       "      <td>France</td>\n",
       "      <td>Male</td>\n",
       "      <td>29</td>\n",
       "      <td>6.0</td>\n",
       "      <td>0.00</td>\n",
       "      <td>2</td>\n",
       "      <td>1</td>\n",
       "      <td>1</td>\n",
       "      <td>2797.27</td>\n",
       "      <td>0</td>\n",
       "    </tr>\n",
       "    <tr>\n",
       "      <th>2780</th>\n",
       "      <td>2781</td>\n",
       "      <td>15790235</td>\n",
       "      <td>Hsing</td>\n",
       "      <td>778</td>\n",
       "      <td>Spain</td>\n",
       "      <td>Male</td>\n",
       "      <td>40</td>\n",
       "      <td>8.0</td>\n",
       "      <td>104291.41</td>\n",
       "      <td>2</td>\n",
       "      <td>1</td>\n",
       "      <td>1</td>\n",
       "      <td>117507.11</td>\n",
       "      <td>0</td>\n",
       "    </tr>\n",
       "    <tr>\n",
       "      <th>127</th>\n",
       "      <td>128</td>\n",
       "      <td>15782688</td>\n",
       "      <td>Piccio</td>\n",
       "      <td>625</td>\n",
       "      <td>Germany</td>\n",
       "      <td>Male</td>\n",
       "      <td>56</td>\n",
       "      <td>0.0</td>\n",
       "      <td>148507.24</td>\n",
       "      <td>1</td>\n",
       "      <td>1</td>\n",
       "      <td>0</td>\n",
       "      <td>46824.08</td>\n",
       "      <td>1</td>\n",
       "    </tr>\n",
       "  </tbody>\n",
       "</table>\n",
       "</div>"
      ],
      "text/plain": [
       "      RowNumber  CustomerId    Surname  CreditScore Geography  Gender  Age  \\\n",
       "8599       8600    15708713       Hill          633    France    Male   35   \n",
       "3574       3575    15683375    Compton          541    France  Female   32   \n",
       "4725       4726    15734987  Robertson          658    France  Female   43   \n",
       "5792       5793    15795186    Leonard          562    France    Male   38   \n",
       "4340       4341    15692631  Bogdanova          577     Spain  Female   44   \n",
       "4314       4315    15582276      Greco          638    France    Male   34   \n",
       "2608       2609    15733768        Hou          600    France    Male   32   \n",
       "3394       3395    15668460   Bellucci          466    France    Male   29   \n",
       "2780       2781    15790235      Hsing          778     Spain    Male   40   \n",
       "127         128    15782688     Piccio          625   Germany    Male   56   \n",
       "\n",
       "      Tenure    Balance  NumOfProducts  HasCrCard  IsActiveMember  \\\n",
       "8599     3.0       0.00              2          1               1   \n",
       "3574     NaN       0.00              1          1               1   \n",
       "4725     7.0  140260.36              2          1               0   \n",
       "5792     5.0       0.00              1          1               0   \n",
       "4340     8.0  115557.00              1          0               1   \n",
       "4314     NaN  133501.36              1          0               1   \n",
       "2608     1.0       0.00              1          1               1   \n",
       "3394     6.0       0.00              2          1               1   \n",
       "2780     8.0  104291.41              2          1               1   \n",
       "127      0.0  148507.24              1          1               0   \n",
       "\n",
       "      EstimatedSalary  Exited  \n",
       "8599         36249.76       0  \n",
       "3574        114951.42       0  \n",
       "4725          2748.72       0  \n",
       "5792        115700.20       0  \n",
       "4340        127506.76       0  \n",
       "4314        155643.04       0  \n",
       "2608        101986.16       0  \n",
       "3394          2797.27       0  \n",
       "2780        117507.11       0  \n",
       "127          46824.08       1  "
      ]
     },
     "execution_count": 4,
     "metadata": {},
     "output_type": "execute_result"
    }
   ],
   "source": [
    "data.sample(10)"
   ]
  },
  {
   "cell_type": "code",
   "execution_count": 5,
   "metadata": {},
   "outputs": [
    {
     "data": {
      "text/html": [
       "<div>\n",
       "<style scoped>\n",
       "    .dataframe tbody tr th:only-of-type {\n",
       "        vertical-align: middle;\n",
       "    }\n",
       "\n",
       "    .dataframe tbody tr th {\n",
       "        vertical-align: top;\n",
       "    }\n",
       "\n",
       "    .dataframe thead th {\n",
       "        text-align: right;\n",
       "    }\n",
       "</style>\n",
       "<table border=\"1\" class=\"dataframe\">\n",
       "  <thead>\n",
       "    <tr style=\"text-align: right;\">\n",
       "      <th></th>\n",
       "      <th>RowNumber</th>\n",
       "      <th>CustomerId</th>\n",
       "      <th>CreditScore</th>\n",
       "      <th>Age</th>\n",
       "      <th>Tenure</th>\n",
       "      <th>Balance</th>\n",
       "      <th>NumOfProducts</th>\n",
       "      <th>HasCrCard</th>\n",
       "      <th>IsActiveMember</th>\n",
       "      <th>EstimatedSalary</th>\n",
       "      <th>Exited</th>\n",
       "    </tr>\n",
       "  </thead>\n",
       "  <tbody>\n",
       "    <tr>\n",
       "      <th>count</th>\n",
       "      <td>10000.00000</td>\n",
       "      <td>1.000000e+04</td>\n",
       "      <td>10000.000000</td>\n",
       "      <td>10000.000000</td>\n",
       "      <td>9091.000000</td>\n",
       "      <td>10000.000000</td>\n",
       "      <td>10000.000000</td>\n",
       "      <td>10000.00000</td>\n",
       "      <td>10000.000000</td>\n",
       "      <td>10000.000000</td>\n",
       "      <td>10000.000000</td>\n",
       "    </tr>\n",
       "    <tr>\n",
       "      <th>mean</th>\n",
       "      <td>5000.50000</td>\n",
       "      <td>1.569094e+07</td>\n",
       "      <td>650.528800</td>\n",
       "      <td>38.921800</td>\n",
       "      <td>4.997690</td>\n",
       "      <td>76485.889288</td>\n",
       "      <td>1.530200</td>\n",
       "      <td>0.70550</td>\n",
       "      <td>0.515100</td>\n",
       "      <td>100090.239881</td>\n",
       "      <td>0.203700</td>\n",
       "    </tr>\n",
       "    <tr>\n",
       "      <th>std</th>\n",
       "      <td>2886.89568</td>\n",
       "      <td>7.193619e+04</td>\n",
       "      <td>96.653299</td>\n",
       "      <td>10.487806</td>\n",
       "      <td>2.894723</td>\n",
       "      <td>62397.405202</td>\n",
       "      <td>0.581654</td>\n",
       "      <td>0.45584</td>\n",
       "      <td>0.499797</td>\n",
       "      <td>57510.492818</td>\n",
       "      <td>0.402769</td>\n",
       "    </tr>\n",
       "    <tr>\n",
       "      <th>min</th>\n",
       "      <td>1.00000</td>\n",
       "      <td>1.556570e+07</td>\n",
       "      <td>350.000000</td>\n",
       "      <td>18.000000</td>\n",
       "      <td>0.000000</td>\n",
       "      <td>0.000000</td>\n",
       "      <td>1.000000</td>\n",
       "      <td>0.00000</td>\n",
       "      <td>0.000000</td>\n",
       "      <td>11.580000</td>\n",
       "      <td>0.000000</td>\n",
       "    </tr>\n",
       "    <tr>\n",
       "      <th>25%</th>\n",
       "      <td>2500.75000</td>\n",
       "      <td>1.562853e+07</td>\n",
       "      <td>584.000000</td>\n",
       "      <td>32.000000</td>\n",
       "      <td>2.000000</td>\n",
       "      <td>0.000000</td>\n",
       "      <td>1.000000</td>\n",
       "      <td>0.00000</td>\n",
       "      <td>0.000000</td>\n",
       "      <td>51002.110000</td>\n",
       "      <td>0.000000</td>\n",
       "    </tr>\n",
       "    <tr>\n",
       "      <th>50%</th>\n",
       "      <td>5000.50000</td>\n",
       "      <td>1.569074e+07</td>\n",
       "      <td>652.000000</td>\n",
       "      <td>37.000000</td>\n",
       "      <td>5.000000</td>\n",
       "      <td>97198.540000</td>\n",
       "      <td>1.000000</td>\n",
       "      <td>1.00000</td>\n",
       "      <td>1.000000</td>\n",
       "      <td>100193.915000</td>\n",
       "      <td>0.000000</td>\n",
       "    </tr>\n",
       "    <tr>\n",
       "      <th>75%</th>\n",
       "      <td>7500.25000</td>\n",
       "      <td>1.575323e+07</td>\n",
       "      <td>718.000000</td>\n",
       "      <td>44.000000</td>\n",
       "      <td>7.000000</td>\n",
       "      <td>127644.240000</td>\n",
       "      <td>2.000000</td>\n",
       "      <td>1.00000</td>\n",
       "      <td>1.000000</td>\n",
       "      <td>149388.247500</td>\n",
       "      <td>0.000000</td>\n",
       "    </tr>\n",
       "    <tr>\n",
       "      <th>max</th>\n",
       "      <td>10000.00000</td>\n",
       "      <td>1.581569e+07</td>\n",
       "      <td>850.000000</td>\n",
       "      <td>92.000000</td>\n",
       "      <td>10.000000</td>\n",
       "      <td>250898.090000</td>\n",
       "      <td>4.000000</td>\n",
       "      <td>1.00000</td>\n",
       "      <td>1.000000</td>\n",
       "      <td>199992.480000</td>\n",
       "      <td>1.000000</td>\n",
       "    </tr>\n",
       "  </tbody>\n",
       "</table>\n",
       "</div>"
      ],
      "text/plain": [
       "         RowNumber    CustomerId   CreditScore           Age       Tenure  \\\n",
       "count  10000.00000  1.000000e+04  10000.000000  10000.000000  9091.000000   \n",
       "mean    5000.50000  1.569094e+07    650.528800     38.921800     4.997690   \n",
       "std     2886.89568  7.193619e+04     96.653299     10.487806     2.894723   \n",
       "min        1.00000  1.556570e+07    350.000000     18.000000     0.000000   \n",
       "25%     2500.75000  1.562853e+07    584.000000     32.000000     2.000000   \n",
       "50%     5000.50000  1.569074e+07    652.000000     37.000000     5.000000   \n",
       "75%     7500.25000  1.575323e+07    718.000000     44.000000     7.000000   \n",
       "max    10000.00000  1.581569e+07    850.000000     92.000000    10.000000   \n",
       "\n",
       "             Balance  NumOfProducts    HasCrCard  IsActiveMember  \\\n",
       "count   10000.000000   10000.000000  10000.00000    10000.000000   \n",
       "mean    76485.889288       1.530200      0.70550        0.515100   \n",
       "std     62397.405202       0.581654      0.45584        0.499797   \n",
       "min         0.000000       1.000000      0.00000        0.000000   \n",
       "25%         0.000000       1.000000      0.00000        0.000000   \n",
       "50%     97198.540000       1.000000      1.00000        1.000000   \n",
       "75%    127644.240000       2.000000      1.00000        1.000000   \n",
       "max    250898.090000       4.000000      1.00000        1.000000   \n",
       "\n",
       "       EstimatedSalary        Exited  \n",
       "count     10000.000000  10000.000000  \n",
       "mean     100090.239881      0.203700  \n",
       "std       57510.492818      0.402769  \n",
       "min          11.580000      0.000000  \n",
       "25%       51002.110000      0.000000  \n",
       "50%      100193.915000      0.000000  \n",
       "75%      149388.247500      0.000000  \n",
       "max      199992.480000      1.000000  "
      ]
     },
     "execution_count": 5,
     "metadata": {},
     "output_type": "execute_result"
    }
   ],
   "source": [
    "data.describe()"
   ]
  },
  {
   "cell_type": "markdown",
   "metadata": {},
   "source": [
    "- Count (Jumlah):\n",
    "\n",
    "Menunjukkan jumlah nilai non-null (non-missing) dalam setiap kolom.\n",
    "Kolom Tenure memiliki nilai yang kurang dari 10,000, yang menandakan adanya nilai null pada beberapa baris.\n",
    "\n",
    "- Mean (Rata-rata):\n",
    "\n",
    "Menunjukkan nilai rata-rata dari data dalam kolom.\n",
    "Sebagai contoh, rata-rata CreditScore adalah 650.53, rata-rata Age adalah 38.92, dan rata-rata Balance adalah 76,485.89.\n",
    "\n",
    "- Std (Standar Deviasi):\n",
    "\n",
    "Menunjukkan sejauh mana nilai-nilai dalam kolom tersebar dari rata-ratanya.\n",
    "Standar deviasi yang tinggi dapat menunjukkan variabilitas yang besar dalam data.\n",
    "\n",
    "- Min (Minimum):\n",
    "\n",
    "Menunjukkan nilai minimum dalam setiap kolom.\n",
    "Misalnya, nilai minimum CreditScore adalah 350, dan nilai minimum Age adalah 18.\n",
    "\n",
    "- 25%, 50%, 75% (Kuartil):\n",
    "\n",
    "Kuartil adalah nilai yang membagi data menjadi empat bagian yang sama besar.\n",
    "Misalnya, Q1 (25%) menunjukkan nilai di mana 25% data berada di bawahnya.\n",
    "Q2 (50%) adalah median, atau nilai di mana 50% data berada di bawahnya.\n",
    "Q3 (75%) menunjukkan nilai di mana 75% data berada di bawahnya.\n",
    "\n",
    "- Max (Maksimum):\n",
    "\n",
    "Menunjukkan nilai maksimum dalam setiap kolom.\n",
    "Misalnya, nilai maksimum CreditScore adalah 850, dan nilai maksimum Age adalah 92."
   ]
  },
  {
   "cell_type": "code",
   "execution_count": 6,
   "metadata": {},
   "outputs": [],
   "source": [
    "# Mengubah nama kolom menjadi huruf kecil\n",
    "data.columns = data.columns.str.lower()"
   ]
  },
  {
   "cell_type": "code",
   "execution_count": 7,
   "metadata": {},
   "outputs": [
    {
     "data": {
      "text/html": [
       "<div>\n",
       "<style scoped>\n",
       "    .dataframe tbody tr th:only-of-type {\n",
       "        vertical-align: middle;\n",
       "    }\n",
       "\n",
       "    .dataframe tbody tr th {\n",
       "        vertical-align: top;\n",
       "    }\n",
       "\n",
       "    .dataframe thead th {\n",
       "        text-align: right;\n",
       "    }\n",
       "</style>\n",
       "<table border=\"1\" class=\"dataframe\">\n",
       "  <thead>\n",
       "    <tr style=\"text-align: right;\">\n",
       "      <th></th>\n",
       "      <th>rownumber</th>\n",
       "      <th>customerid</th>\n",
       "      <th>surname</th>\n",
       "      <th>creditscore</th>\n",
       "      <th>geography</th>\n",
       "      <th>gender</th>\n",
       "      <th>age</th>\n",
       "      <th>tenure</th>\n",
       "      <th>balance</th>\n",
       "      <th>numofproducts</th>\n",
       "      <th>hascrcard</th>\n",
       "      <th>isactivemember</th>\n",
       "      <th>estimatedsalary</th>\n",
       "      <th>exited</th>\n",
       "    </tr>\n",
       "  </thead>\n",
       "  <tbody>\n",
       "    <tr>\n",
       "      <th>0</th>\n",
       "      <td>1</td>\n",
       "      <td>15634602</td>\n",
       "      <td>Hargrave</td>\n",
       "      <td>619</td>\n",
       "      <td>France</td>\n",
       "      <td>Female</td>\n",
       "      <td>42</td>\n",
       "      <td>2.0</td>\n",
       "      <td>0.00</td>\n",
       "      <td>1</td>\n",
       "      <td>1</td>\n",
       "      <td>1</td>\n",
       "      <td>101348.88</td>\n",
       "      <td>1</td>\n",
       "    </tr>\n",
       "    <tr>\n",
       "      <th>1</th>\n",
       "      <td>2</td>\n",
       "      <td>15647311</td>\n",
       "      <td>Hill</td>\n",
       "      <td>608</td>\n",
       "      <td>Spain</td>\n",
       "      <td>Female</td>\n",
       "      <td>41</td>\n",
       "      <td>1.0</td>\n",
       "      <td>83807.86</td>\n",
       "      <td>1</td>\n",
       "      <td>0</td>\n",
       "      <td>1</td>\n",
       "      <td>112542.58</td>\n",
       "      <td>0</td>\n",
       "    </tr>\n",
       "    <tr>\n",
       "      <th>2</th>\n",
       "      <td>3</td>\n",
       "      <td>15619304</td>\n",
       "      <td>Onio</td>\n",
       "      <td>502</td>\n",
       "      <td>France</td>\n",
       "      <td>Female</td>\n",
       "      <td>42</td>\n",
       "      <td>8.0</td>\n",
       "      <td>159660.80</td>\n",
       "      <td>3</td>\n",
       "      <td>1</td>\n",
       "      <td>0</td>\n",
       "      <td>113931.57</td>\n",
       "      <td>1</td>\n",
       "    </tr>\n",
       "    <tr>\n",
       "      <th>3</th>\n",
       "      <td>4</td>\n",
       "      <td>15701354</td>\n",
       "      <td>Boni</td>\n",
       "      <td>699</td>\n",
       "      <td>France</td>\n",
       "      <td>Female</td>\n",
       "      <td>39</td>\n",
       "      <td>1.0</td>\n",
       "      <td>0.00</td>\n",
       "      <td>2</td>\n",
       "      <td>0</td>\n",
       "      <td>0</td>\n",
       "      <td>93826.63</td>\n",
       "      <td>0</td>\n",
       "    </tr>\n",
       "    <tr>\n",
       "      <th>4</th>\n",
       "      <td>5</td>\n",
       "      <td>15737888</td>\n",
       "      <td>Mitchell</td>\n",
       "      <td>850</td>\n",
       "      <td>Spain</td>\n",
       "      <td>Female</td>\n",
       "      <td>43</td>\n",
       "      <td>2.0</td>\n",
       "      <td>125510.82</td>\n",
       "      <td>1</td>\n",
       "      <td>1</td>\n",
       "      <td>1</td>\n",
       "      <td>79084.10</td>\n",
       "      <td>0</td>\n",
       "    </tr>\n",
       "    <tr>\n",
       "      <th>5</th>\n",
       "      <td>6</td>\n",
       "      <td>15574012</td>\n",
       "      <td>Chu</td>\n",
       "      <td>645</td>\n",
       "      <td>Spain</td>\n",
       "      <td>Male</td>\n",
       "      <td>44</td>\n",
       "      <td>8.0</td>\n",
       "      <td>113755.78</td>\n",
       "      <td>2</td>\n",
       "      <td>1</td>\n",
       "      <td>0</td>\n",
       "      <td>149756.71</td>\n",
       "      <td>1</td>\n",
       "    </tr>\n",
       "    <tr>\n",
       "      <th>6</th>\n",
       "      <td>7</td>\n",
       "      <td>15592531</td>\n",
       "      <td>Bartlett</td>\n",
       "      <td>822</td>\n",
       "      <td>France</td>\n",
       "      <td>Male</td>\n",
       "      <td>50</td>\n",
       "      <td>7.0</td>\n",
       "      <td>0.00</td>\n",
       "      <td>2</td>\n",
       "      <td>1</td>\n",
       "      <td>1</td>\n",
       "      <td>10062.80</td>\n",
       "      <td>0</td>\n",
       "    </tr>\n",
       "    <tr>\n",
       "      <th>7</th>\n",
       "      <td>8</td>\n",
       "      <td>15656148</td>\n",
       "      <td>Obinna</td>\n",
       "      <td>376</td>\n",
       "      <td>Germany</td>\n",
       "      <td>Female</td>\n",
       "      <td>29</td>\n",
       "      <td>4.0</td>\n",
       "      <td>115046.74</td>\n",
       "      <td>4</td>\n",
       "      <td>1</td>\n",
       "      <td>0</td>\n",
       "      <td>119346.88</td>\n",
       "      <td>1</td>\n",
       "    </tr>\n",
       "    <tr>\n",
       "      <th>8</th>\n",
       "      <td>9</td>\n",
       "      <td>15792365</td>\n",
       "      <td>He</td>\n",
       "      <td>501</td>\n",
       "      <td>France</td>\n",
       "      <td>Male</td>\n",
       "      <td>44</td>\n",
       "      <td>4.0</td>\n",
       "      <td>142051.07</td>\n",
       "      <td>2</td>\n",
       "      <td>0</td>\n",
       "      <td>1</td>\n",
       "      <td>74940.50</td>\n",
       "      <td>0</td>\n",
       "    </tr>\n",
       "    <tr>\n",
       "      <th>9</th>\n",
       "      <td>10</td>\n",
       "      <td>15592389</td>\n",
       "      <td>H?</td>\n",
       "      <td>684</td>\n",
       "      <td>France</td>\n",
       "      <td>Male</td>\n",
       "      <td>27</td>\n",
       "      <td>2.0</td>\n",
       "      <td>134603.88</td>\n",
       "      <td>1</td>\n",
       "      <td>1</td>\n",
       "      <td>1</td>\n",
       "      <td>71725.73</td>\n",
       "      <td>0</td>\n",
       "    </tr>\n",
       "  </tbody>\n",
       "</table>\n",
       "</div>"
      ],
      "text/plain": [
       "   rownumber  customerid   surname  creditscore geography  gender  age  \\\n",
       "0          1    15634602  Hargrave          619    France  Female   42   \n",
       "1          2    15647311      Hill          608     Spain  Female   41   \n",
       "2          3    15619304      Onio          502    France  Female   42   \n",
       "3          4    15701354      Boni          699    France  Female   39   \n",
       "4          5    15737888  Mitchell          850     Spain  Female   43   \n",
       "5          6    15574012       Chu          645     Spain    Male   44   \n",
       "6          7    15592531  Bartlett          822    France    Male   50   \n",
       "7          8    15656148    Obinna          376   Germany  Female   29   \n",
       "8          9    15792365        He          501    France    Male   44   \n",
       "9         10    15592389        H?          684    France    Male   27   \n",
       "\n",
       "   tenure    balance  numofproducts  hascrcard  isactivemember  \\\n",
       "0     2.0       0.00              1          1               1   \n",
       "1     1.0   83807.86              1          0               1   \n",
       "2     8.0  159660.80              3          1               0   \n",
       "3     1.0       0.00              2          0               0   \n",
       "4     2.0  125510.82              1          1               1   \n",
       "5     8.0  113755.78              2          1               0   \n",
       "6     7.0       0.00              2          1               1   \n",
       "7     4.0  115046.74              4          1               0   \n",
       "8     4.0  142051.07              2          0               1   \n",
       "9     2.0  134603.88              1          1               1   \n",
       "\n",
       "   estimatedsalary  exited  \n",
       "0        101348.88       1  \n",
       "1        112542.58       0  \n",
       "2        113931.57       1  \n",
       "3         93826.63       0  \n",
       "4         79084.10       0  \n",
       "5        149756.71       1  \n",
       "6         10062.80       0  \n",
       "7        119346.88       1  \n",
       "8         74940.50       0  \n",
       "9         71725.73       0  "
      ]
     },
     "execution_count": 7,
     "metadata": {},
     "output_type": "execute_result"
    }
   ],
   "source": [
    "data.head(10)"
   ]
  },
  {
   "cell_type": "code",
   "execution_count": 8,
   "metadata": {},
   "outputs": [],
   "source": [
    "# Menangani nilai null pada kolom Tenure dengan nilai rata-rata\n",
    "mean_tenure = data['tenure'].mean()\n",
    "data['tenure'].fillna(mean_tenure, inplace=True)"
   ]
  },
  {
   "cell_type": "code",
   "execution_count": 9,
   "metadata": {
    "scrolled": true
   },
   "outputs": [
    {
     "name": "stdout",
     "output_type": "stream",
     "text": [
      "Jumlah nilai null setelah pengisian: 0\n"
     ]
    }
   ],
   "source": [
    "# Memeriksa apakah masih terdapat nilai null setelah pengisian\n",
    "print(\"Jumlah nilai null setelah pengisian:\", data['tenure'].isnull().sum())"
   ]
  },
  {
   "cell_type": "markdown",
   "metadata": {},
   "source": [
    "Kita memiliki kolom-kolom dengan tipe data objek, kita perlu mengonversinya menjadi format yang dapat digunakan oleh model machine learning. Dalam kasus ini, kita dapat menggunakan pendekatan seperti one-hot encoding untuk kolom-kolom kategorikal seperti 'Geography' dan 'Gender'. Untuk kolom 'Surname', mungkin lebih baik untuk menghapusnya jika kita tidak merencanakan untuk menggunakan informasi tersebut dalam pemodelan."
   ]
  },
  {
   "cell_type": "code",
   "execution_count": 10,
   "metadata": {},
   "outputs": [],
   "source": [
    "# Menangani kolom 'Geography' dengan one-hot encoding\n",
    "data = pd.get_dummies(data, columns=['geography'], drop_first=True)"
   ]
  },
  {
   "cell_type": "code",
   "execution_count": 11,
   "metadata": {},
   "outputs": [],
   "source": [
    "# Menangani kolom 'Gender' dengan one-hot encoding\n",
    "data['gender'] = data['gender'].map({'Female': 0, 'Male': 1})"
   ]
  },
  {
   "cell_type": "code",
   "execution_count": 12,
   "metadata": {},
   "outputs": [],
   "source": [
    "# Menghapus kolom 'Surname'\n",
    "data = data.drop(['surname'], axis=1)"
   ]
  },
  {
   "cell_type": "code",
   "execution_count": 13,
   "metadata": {},
   "outputs": [
    {
     "data": {
      "text/html": [
       "<div>\n",
       "<style scoped>\n",
       "    .dataframe tbody tr th:only-of-type {\n",
       "        vertical-align: middle;\n",
       "    }\n",
       "\n",
       "    .dataframe tbody tr th {\n",
       "        vertical-align: top;\n",
       "    }\n",
       "\n",
       "    .dataframe thead th {\n",
       "        text-align: right;\n",
       "    }\n",
       "</style>\n",
       "<table border=\"1\" class=\"dataframe\">\n",
       "  <thead>\n",
       "    <tr style=\"text-align: right;\">\n",
       "      <th></th>\n",
       "      <th>rownumber</th>\n",
       "      <th>customerid</th>\n",
       "      <th>creditscore</th>\n",
       "      <th>gender</th>\n",
       "      <th>age</th>\n",
       "      <th>tenure</th>\n",
       "      <th>balance</th>\n",
       "      <th>numofproducts</th>\n",
       "      <th>hascrcard</th>\n",
       "      <th>isactivemember</th>\n",
       "      <th>estimatedsalary</th>\n",
       "      <th>exited</th>\n",
       "      <th>geography_Germany</th>\n",
       "      <th>geography_Spain</th>\n",
       "    </tr>\n",
       "  </thead>\n",
       "  <tbody>\n",
       "    <tr>\n",
       "      <th>0</th>\n",
       "      <td>1</td>\n",
       "      <td>15634602</td>\n",
       "      <td>619</td>\n",
       "      <td>0</td>\n",
       "      <td>42</td>\n",
       "      <td>2.0</td>\n",
       "      <td>0.00</td>\n",
       "      <td>1</td>\n",
       "      <td>1</td>\n",
       "      <td>1</td>\n",
       "      <td>101348.88</td>\n",
       "      <td>1</td>\n",
       "      <td>0</td>\n",
       "      <td>0</td>\n",
       "    </tr>\n",
       "    <tr>\n",
       "      <th>1</th>\n",
       "      <td>2</td>\n",
       "      <td>15647311</td>\n",
       "      <td>608</td>\n",
       "      <td>0</td>\n",
       "      <td>41</td>\n",
       "      <td>1.0</td>\n",
       "      <td>83807.86</td>\n",
       "      <td>1</td>\n",
       "      <td>0</td>\n",
       "      <td>1</td>\n",
       "      <td>112542.58</td>\n",
       "      <td>0</td>\n",
       "      <td>0</td>\n",
       "      <td>1</td>\n",
       "    </tr>\n",
       "    <tr>\n",
       "      <th>2</th>\n",
       "      <td>3</td>\n",
       "      <td>15619304</td>\n",
       "      <td>502</td>\n",
       "      <td>0</td>\n",
       "      <td>42</td>\n",
       "      <td>8.0</td>\n",
       "      <td>159660.80</td>\n",
       "      <td>3</td>\n",
       "      <td>1</td>\n",
       "      <td>0</td>\n",
       "      <td>113931.57</td>\n",
       "      <td>1</td>\n",
       "      <td>0</td>\n",
       "      <td>0</td>\n",
       "    </tr>\n",
       "    <tr>\n",
       "      <th>3</th>\n",
       "      <td>4</td>\n",
       "      <td>15701354</td>\n",
       "      <td>699</td>\n",
       "      <td>0</td>\n",
       "      <td>39</td>\n",
       "      <td>1.0</td>\n",
       "      <td>0.00</td>\n",
       "      <td>2</td>\n",
       "      <td>0</td>\n",
       "      <td>0</td>\n",
       "      <td>93826.63</td>\n",
       "      <td>0</td>\n",
       "      <td>0</td>\n",
       "      <td>0</td>\n",
       "    </tr>\n",
       "    <tr>\n",
       "      <th>4</th>\n",
       "      <td>5</td>\n",
       "      <td>15737888</td>\n",
       "      <td>850</td>\n",
       "      <td>0</td>\n",
       "      <td>43</td>\n",
       "      <td>2.0</td>\n",
       "      <td>125510.82</td>\n",
       "      <td>1</td>\n",
       "      <td>1</td>\n",
       "      <td>1</td>\n",
       "      <td>79084.10</td>\n",
       "      <td>0</td>\n",
       "      <td>0</td>\n",
       "      <td>1</td>\n",
       "    </tr>\n",
       "  </tbody>\n",
       "</table>\n",
       "</div>"
      ],
      "text/plain": [
       "   rownumber  customerid  creditscore  gender  age  tenure    balance  \\\n",
       "0          1    15634602          619       0   42     2.0       0.00   \n",
       "1          2    15647311          608       0   41     1.0   83807.86   \n",
       "2          3    15619304          502       0   42     8.0  159660.80   \n",
       "3          4    15701354          699       0   39     1.0       0.00   \n",
       "4          5    15737888          850       0   43     2.0  125510.82   \n",
       "\n",
       "   numofproducts  hascrcard  isactivemember  estimatedsalary  exited  \\\n",
       "0              1          1               1        101348.88       1   \n",
       "1              1          0               1        112542.58       0   \n",
       "2              3          1               0        113931.57       1   \n",
       "3              2          0               0         93826.63       0   \n",
       "4              1          1               1         79084.10       0   \n",
       "\n",
       "   geography_Germany  geography_Spain  \n",
       "0                  0                0  \n",
       "1                  0                1  \n",
       "2                  0                0  \n",
       "3                  0                0  \n",
       "4                  0                1  "
      ]
     },
     "execution_count": 13,
     "metadata": {},
     "output_type": "execute_result"
    }
   ],
   "source": [
    "data.head()"
   ]
  },
  {
   "cell_type": "code",
   "execution_count": 14,
   "metadata": {},
   "outputs": [
    {
     "name": "stdout",
     "output_type": "stream",
     "text": [
      "Keseimbangan Kelas:\n",
      " 0    7963\n",
      "1    2037\n",
      "Name: exited, dtype: int64\n"
     ]
    }
   ],
   "source": [
    "# Memeriksa keseimbangan kelas\n",
    "class_balance = data['exited'].value_counts()\n",
    "print(\"Keseimbangan Kelas:\\n\", class_balance)"
   ]
  },
  {
   "cell_type": "code",
   "execution_count": 15,
   "metadata": {},
   "outputs": [
    {
     "data": {
      "image/png": "[encoded data removed]",
      "text/plain": [
       "<Figure size 432x288 with 1 Axes>"
      ]
     },
     "metadata": {
      "needs_background": "light"
     },
     "output_type": "display_data"
    }
   ],
   "source": [
    "# Visualisasi keseimbangan kelas\n",
    "sns.countplot(x='exited', data=data)\n",
    "plt.title('Distribusi Kelas')\n",
    "plt.show()"
   ]
  },
  {
   "cell_type": "markdown",
   "metadata": {},
   "source": [
    "- Keseimbangan Kelas:\n",
    "\n",
    "Terdapat dua nilai unik pada kolom 'Exited', yaitu 0 dan 1, yang mewakili apakah nasabah telah berhenti (1) atau tidak (0).\n",
    "Jumlah nasabah yang tidak berhenti (0) adalah 7,963.\n",
    "Jumlah nasabah yang berhenti (1) adalah 2,037.\n",
    "\n",
    "- Interpretasi:\n",
    "\n",
    "Dalam konteks proyek ini, ketidakseimbangan kelas dapat diamati karena jumlah nasabah yang tidak berhenti jauh lebih besar daripada yang berhenti.\n",
    "Hal ini bisa menjadi tantangan ketika melatih model machine learning, karena model mungkin memiliki kecenderungan untuk lebih baik memprediksi kelas mayoritas dan mengabaikan kelas minoritas.\n"
   ]
  },
  {
   "cell_type": "code",
   "execution_count": 16,
   "metadata": {},
   "outputs": [],
   "source": [
    "# Pisahkan fitur dan target\n",
    "X = data.drop('exited', axis=1)\n",
    "y = data['exited']"
   ]
  },
  {
   "cell_type": "code",
   "execution_count": 17,
   "metadata": {},
   "outputs": [],
   "source": [
    "# Bagi dataset menjadi data latih dan data uji\n",
    "X_train, X_test, y_train, y_test = train_test_split(X, y, test_size=0.2, random_state=42)"
   ]
  },
  {
   "cell_type": "code",
   "execution_count": 18,
   "metadata": {},
   "outputs": [],
   "source": [
    "# Inisialisasi model Random Forest\n",
    "model = RandomForestClassifier(random_state=42)"
   ]
  },
  {
   "cell_type": "code",
   "execution_count": 19,
   "metadata": {},
   "outputs": [
    {
     "data": {
      "text/plain": [
       "RandomForestClassifier(random_state=42)"
      ]
     },
     "execution_count": 19,
     "metadata": {},
     "output_type": "execute_result"
    }
   ],
   "source": [
    "# Latih model pada data latih\n",
    "model.fit(X_train, y_train)"
   ]
  },
  {
   "cell_type": "code",
   "execution_count": 20,
   "metadata": {},
   "outputs": [],
   "source": [
    "# Prediksi pada data uji\n",
    "y_pred = model.predict(X_test)"
   ]
  },
  {
   "cell_type": "code",
   "execution_count": 21,
   "metadata": {
    "scrolled": true
   },
   "outputs": [
    {
     "name": "stdout",
     "output_type": "stream",
     "text": [
      "Confusion Matrix:\n",
      " [[1554   53]\n",
      " [ 212  181]]\n"
     ]
    }
   ],
   "source": [
    "# Evaluasi model\n",
    "print(\"Confusion Matrix:\\n\", confusion_matrix(y_test, y_pred))\n"
   ]
  },
  {
   "cell_type": "markdown",
   "metadata": {},
   "source": [
    "- Dalam kasus ini, kita punya empat kemungkinan hasil:\n",
    "\n",
    "True Negative (TN): Model benar memprediksi yang tidak berhenti.\n",
    "\n",
    "False Positive (FP): Model salah memprediksi yang berhenti padahal sebenarnya tidak.\n",
    "\n",
    "False Negative (FN): Model salah memprediksi yang tidak berhenti padahal sebenarnya berhenti.\n",
    "\n",
    "True Positive (TP): Model benar memprediksi yang berhenti.\n",
    "\n",
    "\n",
    "- Interpretasi singkat dari hasil di atas:\n",
    "\n",
    "Model benar memprediksi nasabah yang tidak berhenti (TN: 1554).\n",
    "\n",
    "Model benar memprediksi nasabah yang berhenti (TP: 181).\n",
    "\n",
    "Ada beberapa kesalahan prediksi, termasuk model yang memprediksi nasabah tidak berhenti padahal sebenarnya berhenti (FN: 212) dan sebaliknya (FP: 53)."
   ]
  },
  {
   "cell_type": "code",
   "execution_count": 22,
   "metadata": {
    "scrolled": true
   },
   "outputs": [
    {
     "name": "stdout",
     "output_type": "stream",
     "text": [
      "\n",
      "Classification Report:\n",
      "               precision    recall  f1-score   support\n",
      "\n",
      "           0       0.88      0.97      0.92      1607\n",
      "           1       0.77      0.46      0.58       393\n",
      "\n",
      "    accuracy                           0.87      2000\n",
      "   macro avg       0.83      0.71      0.75      2000\n",
      "weighted avg       0.86      0.87      0.85      2000\n",
      "\n"
     ]
    }
   ],
   "source": [
    "print(\"\\nClassification Report:\\n\", classification_report(y_test, y_pred))"
   ]
  },
  {
   "cell_type": "markdown",
   "metadata": {},
   "source": [
    "- Precision: Tingkat ketepatan prediksi model. Precision untuk kelas 0 (tidak berhenti) adalah 0.88, yang berarti 88% dari yang diprediksi tidak berhenti adalah benar-benar tidak berhenti. Precision untuk kelas 1 (berhenti) adalah 0.77, yang berarti 77% dari yang diprediksi berhenti benar-benar berhenti.\n",
    "\n",
    "- Recall (Sensitivitas): Tingkat kemampuan model dalam mendeteksi semua kasus yang sebenarnya berhenti. Recall untuk kelas 0 adalah 0.97, yang berarti 97% dari semua yang sebenarnya tidak berhenti berhasil dideteksi. Recall untuk kelas 1 adalah 0.46, yang berarti hanya 46% dari yang sebenarnya berhenti berhasil dideteksi.\n",
    "\n",
    "- F1-Score: Ukuran keseimbangan antara precision dan recall. F1-score untuk kelas 0 adalah 0.92, dan untuk kelas 1 adalah 0.58.\n",
    "\n",
    "- Accuracy (Akurasi): Tingkat keseluruhan kebenaran prediksi. Akurasi adalah 0.87, yang berarti sekitar 87% dari semua prediksi model benar.\n",
    "\n",
    "- Macro Average dan Weighted Average: Rata-rata precision, recall, dan F1-score untuk kedua kelas, dengan bobot yang sama (Macro Average), dan bobot sesuai dengan jumlah sampel untuk masing-masing kelas (Weighted Average).\n",
    "\n",
    "Dalam konteks ini, kita dapat melihat bahwa model cenderung lebih baik dalam memprediksi nasabah yang tidak berhenti (kelas 0) daripada yang berhenti (kelas 1). Meskipun akurasi keseluruhan tinggi (87%), kita perlu memperhatikan peningkatan kinerja untuk mendeteksi nasabah yang berhenti. Peningkatan performa dapat melibatkan teknik-teknik seperti penanganan ketidakseimbangan kelas atau pengoptimalan parameter model"
   ]
  },
  {
   "cell_type": "code",
   "execution_count": 23,
   "metadata": {},
   "outputs": [
    {
     "name": "stdout",
     "output_type": "stream",
     "text": [
      "\n",
      "Accuracy Score: 0.8675\n"
     ]
    }
   ],
   "source": [
    "print(\"\\nAccuracy Score:\", accuracy_score(y_test, y_pred))"
   ]
  },
  {
   "cell_type": "markdown",
   "metadata": {},
   "source": [
    "Hasil \"Accuracy Score: 0.8675\" berarti bahwa model kita memiliki tingkat akurasi sekitar 86.75%.\n",
    "\n",
    "Dari seluruh prediksi yang dilakukan oleh model (baik yang benar maupun yang salah), sekitar 86.75% di antaranya adalah prediksi yang benar."
   ]
  },
  {
   "cell_type": "code",
   "execution_count": 24,
   "metadata": {},
   "outputs": [
    {
     "name": "stdout",
     "output_type": "stream",
     "text": [
      "\n",
      "Classification Report setelah Oversampling:\n",
      "               precision    recall  f1-score   support\n",
      "\n",
      "           0       0.89      0.95      0.92      1607\n",
      "           1       0.70      0.52      0.60       393\n",
      "\n",
      "    accuracy                           0.86      2000\n",
      "   macro avg       0.80      0.74      0.76      2000\n",
      "weighted avg       0.85      0.86      0.86      2000\n",
      "\n",
      "\n",
      "Confusion Matrix setelah Oversampling:\n",
      " [[1520   87]\n",
      " [ 187  206]]\n",
      "\n",
      "Accuracy Score setelah Oversampling: 0.863\n"
     ]
    }
   ],
   "source": [
    "# Pisahkan fitur dan target\n",
    "X = data.drop('exited', axis=1)\n",
    "y = data['exited']\n",
    "\n",
    "# Bagi dataset menjadi data latih dan data uji\n",
    "X_train, X_test, y_train, y_test = train_test_split(X, y, test_size=0.2, random_state=42)\n",
    "\n",
    "# Gabungkan data latih kelas minoritas\n",
    "minority_class = X_train[y_train == 1]\n",
    "X_train_oversampled = pd.concat([X_train, minority_class])\n",
    "y_train_oversampled = pd.concat([y_train, pd.Series([1] * len(minority_class))])\n",
    "\n",
    "# Inisialisasi model RandomForestClassifier\n",
    "model = RandomForestClassifier(random_state=42)\n",
    "\n",
    "# Melatih model pada data latih yang telah di-oversample\n",
    "model.fit(X_train_oversampled, y_train_oversampled)\n",
    "\n",
    "# Prediksi pada data uji\n",
    "y_pred_oversampled = model.predict(X_test)\n",
    "\n",
    "# Evaluasi model setelah oversampling sederhana\n",
    "print(\"\\nClassification Report setelah Oversampling:\\n\", classification_report(y_test, y_pred_oversampled))\n",
    "print(\"\\nConfusion Matrix setelah Oversampling:\\n\", confusion_matrix(y_test, y_pred_oversampled))\n",
    "print(\"\\nAccuracy Score setelah Oversampling:\", accuracy_score(y_test, y_pred_oversampled))"
   ]
  },
  {
   "cell_type": "markdown",
   "metadata": {},
   "source": [
    "Hasil dari penggunaan metode oversampling sederhana dengan duplikasi sampel pada kelas minoritas adalah sebagai berikut:\n",
    "\n",
    "- Classification Report:\n",
    "\n",
    "Precision (presisi) untuk kelas 0 (tidak berhenti) meningkat menjadi 0.89, yang menunjukkan bahwa 89% dari yang diprediksi tidak berhenti adalah benar-benar tidak berhenti.\n",
    "Recall (sensitivitas) untuk kelas 1 (berhenti) meningkat menjadi 0.52, yang berarti 52% dari yang sebenarnya berhenti berhasil dideteksi.\n",
    "F1-score untuk kelas 0 tetap tinggi di 0.92, sedangkan untuk kelas 1 meningkat menjadi 0.60.\n",
    "\n",
    "- Confusion Matrix:\n",
    "\n",
    "True Negative (TN): 1520, model memprediksi kelas 0 dan kenyataannya kelas 0.\n",
    "False Positive (FP): 87, model memprediksi kelas 1 padahal sebenarnya kelas 0.\n",
    "False Negative (FN): 187, model memprediksi kelas 0 padahal sebenarnya kelas 1.\n",
    "True Positive (TP): 206, model memprediksi kelas 1 dan kenyataannya kelas 1.\n",
    "\n",
    "- Accuracy Score:\n",
    "\n",
    "Akurasi mencapai sekitar 86.3%, yang menunjukkan sejauh mana model benar-benar memprediksi dengan benar (TP + TN) dari keseluruhan data.\n",
    "\n",
    "Meskipun oversampling sederhana telah meningkatkan beberapa metrik, kita masih melihat ketidakseimbangan dalam kinerja model, terutama dalam mendeteksi kelas minoritas (berhenti). Recall untuk kelas 1 masih relatif rendah, menunjukkan bahwa model masih sulit mendeteksi dengan baik nasabah yang benar-benar berhenti."
   ]
  },
  {
   "cell_type": "code",
   "execution_count": 25,
   "metadata": {},
   "outputs": [
    {
     "name": "stdout",
     "output_type": "stream",
     "text": [
      "AUC-ROC Score: 0.8599812208356886\n"
     ]
    }
   ],
   "source": [
    "# Inisialisasi model RandomForestClassifier (pastikan untuk mengganti parameter sesuai kebutuhan)\n",
    "model = RandomForestClassifier(random_state=42)\n",
    "\n",
    "# Pisahkan fitur dan target\n",
    "X = data.drop('exited', axis=1)\n",
    "y = data['exited']\n",
    "\n",
    "# Bagi dataset menjadi data latih dan data uji\n",
    "X_train, X_test, y_train, y_test = train_test_split(X, y, test_size=0.2, random_state=42)\n",
    "\n",
    "# Melatih model\n",
    "model.fit(X_train, y_train)\n",
    "\n",
    "# Melakukan prediksi probabilitas pada data uji\n",
    "y_prob = model.predict_proba(X_test)[:, 1]\n",
    "\n",
    "# Menghitung nilai AUC-ROC\n",
    "auc_roc = roc_auc_score(y_test, y_prob)\n",
    "print(\"AUC-ROC Score:\", auc_roc)\n"
   ]
  },
  {
   "cell_type": "code",
   "execution_count": 26,
   "metadata": {},
   "outputs": [
    {
     "data": {
      "image/png": "[encoded data removed]",
      "text/plain": [
       "<Figure size 576x432 with 1 Axes>"
      ]
     },
     "metadata": {
      "needs_background": "light"
     },
     "output_type": "display_data"
    }
   ],
   "source": [
    "# Menggambar kurva ROC\n",
    "fpr, tpr, thresholds = roc_curve(y_test, y_prob)\n",
    "\n",
    "plt.figure(figsize=(8, 6))\n",
    "plt.plot(fpr, tpr, label=f'AUC-ROC Curve (AUC = {auc_roc:.2f})')\n",
    "plt.plot([0, 1], [0, 1], 'k--', label='Random')\n",
    "plt.xlabel('False Positive Rate (FPR)')\n",
    "plt.ylabel('True Positive Rate (TPR)')\n",
    "plt.title('ROC Curve')\n",
    "plt.legend()\n",
    "plt.show()"
   ]
  },
  {
   "cell_type": "markdown",
   "metadata": {},
   "source": [
    "Hasil AUC-ROC Score sebesar 0.8599 mencerminkan kualitas model dalam melakukan klasifikasi pada dataset uji. AUC-ROC (Area Under the Receiver Operating Characteristic Curve) adalah metrik evaluasi yang umum digunakan untuk mengukur kinerja model klasifikasi pada berbagai tingkat ambang (threshold).\n",
    "\n",
    "- Interpretasi AUC-ROC Score:\n",
    "\n",
    "Nilai AUC-ROC berada di rentang 0 hingga 1. Semakin tinggi nilai AUC-ROC, semakin baik kinerja model. Sebuah model yang sempurna memiliki nilai AUC-ROC sebesar 1.\n",
    "\n",
    "- AUC-ROC Score = 0.8599:\n",
    "\n",
    "Nilai AUC-ROC yang mendekati 1 menunjukkan bahwa model kita dapat membedakan antara kelas positif (berhenti) dan kelas negatif (tidak berhenti) dengan baik.\n",
    "\n",
    "- Analisis Kurva ROC:\n",
    "\n",
    "Kurva ROC yang dihasilkan oleh plot memiliki area yang cukup besar di bawahnya, menunjukkan tingkat sensitivitas dan spesifisitas yang baik. Poin operasional optimal pada kurva ROC adalah ketika True Positive Rate (TPR) tinggi dan False Positive Rate (FPR) rendah.\n",
    "\n",
    "- Peningkatan Kualitas Model:\n",
    "\n",
    "Dengan nilai AUC-ROC sebesar 0.8599, model ini telah mencapai tingkat kinerja yang baik."
   ]
  },
  {
   "cell_type": "code",
   "execution_count": 27,
   "metadata": {},
   "outputs": [],
   "source": [
    "# Melakukan prediksi pada data uji\n",
    "y_pred = model.predict(X_test)"
   ]
  },
  {
   "cell_type": "code",
   "execution_count": 28,
   "metadata": {},
   "outputs": [
    {
     "name": "stdout",
     "output_type": "stream",
     "text": [
      "Accuracy Score: 0.8675\n"
     ]
    }
   ],
   "source": [
    "# Accuracy\n",
    "accuracy = accuracy_score(y_test, y_pred)\n",
    "print(\"Accuracy Score:\", accuracy)"
   ]
  },
  {
   "cell_type": "markdown",
   "metadata": {},
   "source": [
    "Accuracy Score sebesar 0.8675 menunjukkan bahwa sekitar 86.75% dari prediksi yang dilakukan oleh model adalah benar."
   ]
  },
  {
   "cell_type": "code",
   "execution_count": 29,
   "metadata": {},
   "outputs": [
    {
     "name": "stdout",
     "output_type": "stream",
     "text": [
      "Precision Score: 0.7735042735042735\n"
     ]
    }
   ],
   "source": [
    "# Precision\n",
    "precision = precision_score(y_test, y_pred)\n",
    "print(\"Precision Score:\", precision)"
   ]
  },
  {
   "cell_type": "markdown",
   "metadata": {},
   "source": [
    "Precision Score sebesar 0.7735 menunjukkan bahwa sekitar 77.35% dari nasabah yang diprediksi berhenti (positif) oleh model, benar-benar berhenti. Precision memberikan informasi tentang seberapa andal model dalam mengidentifikasi kelas positif."
   ]
  },
  {
   "cell_type": "code",
   "execution_count": 30,
   "metadata": {},
   "outputs": [
    {
     "name": "stdout",
     "output_type": "stream",
     "text": [
      "Recall Score: 0.46055979643765904\n"
     ]
    }
   ],
   "source": [
    "# Recall\n",
    "recall = recall_score(y_test, y_pred)\n",
    "print(\"Recall Score:\", recall)"
   ]
  },
  {
   "cell_type": "markdown",
   "metadata": {},
   "source": [
    "Recall Score, juga dikenal sebagai Sensitivity atau True Positive Rate, mengukur sejauh mana model mampu mengidentifikasi seluruh jumlah instance yang sebenarnya positif dalam dataset uji. Pada hasil Recall Score sebesar 0.4606, dapat diinterpretasikan bahwa sekitar 46.06% dari seluruh nasabah yang sebenarnya berhenti telah diidentifikasi dengan benar oleh model."
   ]
  },
  {
   "cell_type": "code",
   "execution_count": 31,
   "metadata": {},
   "outputs": [
    {
     "name": "stdout",
     "output_type": "stream",
     "text": [
      "F1-Score: 0.5773524720893143\n"
     ]
    }
   ],
   "source": [
    "# F1-Score\n",
    "f1 = f1_score(y_test, y_pred)\n",
    "print(\"F1-Score:\", f1)"
   ]
  },
  {
   "cell_type": "markdown",
   "metadata": {},
   "source": [
    "Pada hasil F1-Score sebesar 0.5774, dapat diinterpretasikan bahwa model memiliki keseimbangan yang relatif baik antara Precision dan Recall. Nilai F1-Score yang tinggi menunjukkan bahwa model mampu memberikan prediksi yang tepat dan secara efektif mengidentifikasi sebagian besar instance positif dalam dataset uji."
   ]
  },
  {
   "cell_type": "code",
   "execution_count": 32,
   "metadata": {},
   "outputs": [
    {
     "name": "stdout",
     "output_type": "stream",
     "text": [
      "AUC-ROC Score: 0.8599812208356886\n"
     ]
    }
   ],
   "source": [
    "# AUC-ROC\n",
    "y_prob = model.predict_proba(X_test)[:, 1]\n",
    "auc_roc = roc_auc_score(y_test, y_prob)\n",
    "print(\"AUC-ROC Score:\", auc_roc)"
   ]
  },
  {
   "cell_type": "markdown",
   "metadata": {},
   "source": [
    "AUC-ROC Score mengukur performa model untuk membedakan antara kelas positif dan kelas negatif. Pada hasil AUC-ROC Score sebesar 0.8600, model memiliki kemampuan yang baik dalam memisahkan antara nasabah yang berhenti (positif) dan yang tidak berhenti (negatif). Semakin tinggi nilai AUC-ROC, semakin baik kemampuan model dalam melakukan klasifikasi."
   ]
  },
  {
   "cell_type": "code",
   "execution_count": 33,
   "metadata": {},
   "outputs": [
    {
     "name": "stdout",
     "output_type": "stream",
     "text": [
      "Confusion Matrix:\n",
      " [[1554   53]\n",
      " [ 212  181]]\n"
     ]
    }
   ],
   "source": [
    "# Confusion Matrix\n",
    "conf_matrix = confusion_matrix(y_test, y_pred)\n",
    "print(\"Confusion Matrix:\\n\", conf_matrix)"
   ]
  },
  {
   "cell_type": "markdown",
   "metadata": {},
   "source": [
    "- 1554 adalah True Negative (TN), yang menunjukkan nasabah yang benar diprediksi tidak berhenti.\n",
    "- 181 adalah True Positive (TP), yang menunjukkan nasabah yang benar diprediksi berhenti.\n",
    "- 53 adalah False Positive (FP), yang menunjukkan nasabah yang sebenarnya tidak berhenti tapi diprediksi berhenti.\n",
    "- 212 adalah False Negative (FN), yang menunjukkan nasabah yang sebenarnya berhenti tapi diprediksi tidak berhenti."
   ]
  },
  {
   "cell_type": "code",
   "execution_count": 34,
   "metadata": {
    "scrolled": true
   },
   "outputs": [
    {
     "name": "stdout",
     "output_type": "stream",
     "text": [
      "Classification Report:\n",
      "               precision    recall  f1-score   support\n",
      "\n",
      "           0       0.88      0.97      0.92      1607\n",
      "           1       0.77      0.46      0.58       393\n",
      "\n",
      "    accuracy                           0.87      2000\n",
      "   macro avg       0.83      0.71      0.75      2000\n",
      "weighted avg       0.86      0.87      0.85      2000\n",
      "\n"
     ]
    }
   ],
   "source": [
    "# Classification Report\n",
    "class_report = classification_report(y_test, y_pred)\n",
    "print(\"Classification Report:\\n\", class_report)"
   ]
  },
  {
   "cell_type": "markdown",
   "metadata": {},
   "source": [
    "- Precision (Presisi):\n",
    "\n",
    "Untuk kelas 0 (nasabah yang tidak berhenti), precision sebesar 0.88 menunjukkan bahwa sekitar 88% dari yang diprediksi berhenti oleh model benar-benar tidak berhenti.\n",
    "Untuk kelas 1 (nasabah yang berhenti), precision sebesar 0.77 menunjukkan bahwa sekitar 77% dari yang diprediksi berhenti oleh model benar-benar berhenti.\n",
    "\n",
    "- Recall (Recall atau Sensitivity):\n",
    "\n",
    "Untuk kelas 0, recall sebesar 0.97 menunjukkan bahwa model mampu mengidentifikasi sekitar 97% dari nasabah yang sebenarnya tidak berhenti.\n",
    "Untuk kelas 1, recall sebesar 0.46 menunjukkan bahwa model hanya dapat mengidentifikasi sekitar 46% dari nasabah yang sebenarnya berhenti.\n",
    "\n",
    "- F1-Score:\n",
    "\n",
    "F1-score adalah harmonic mean dari precision dan recall. F1-score yang tinggi menunjukkan keseimbangan antara precision dan recall.\n",
    "Untuk kelas 0, F1-score sebesar 0.92.\n",
    "Untuk kelas 1, F1-score sebesar 0.58.\n",
    "\n",
    "- Accuracy (Akurasi):\n",
    "\n",
    "Akurasi sebesar 0.87 menunjukkan persentase total prediksi yang benar dari model.\n",
    "\n",
    "- Macro Avg dan Weighted Avg:\n",
    "\n",
    "Macro avg mengambil rata-rata dari metrik untuk setiap kelas tanpa mempertimbangkan proporsi kelas.\n",
    "Weighted avg memberikan bobot lebih tinggi untuk kelas yang memiliki banyak sampel."
   ]
  },
  {
   "cell_type": "markdown",
   "metadata": {},
   "source": [
    "# Kesimpulan :\n",
    "\n",
    "1. Pemrosesan Data:\n",
    "\n",
    "Data telah diimpor dan dieksplorasi dengan menggunakan berbagai metode seperti info(), sample(), dan describe() untuk mendapatkan pemahaman awal tentang struktur dan konten data.\n",
    "Pemrosesan data mencakup penanganan nilai null pada kolom Tenure, transformasi nama kolom menjadi huruf kecil, dan penanganan nilai objek pada kolom Geography, Gender, dan Surname.\n",
    "\n",
    "2. Keseimbangan Kelas:\n",
    "\n",
    "Keseimbangan kelas (class balance) telah diperiksa menggunakan value_counts() pada kolom target Exited.\n",
    "Ditemukan ketidakseimbangan dengan jumlah nasabah yang tidak berhenti (0) lebih banyak dibandingkan yang berhenti (1).\n",
    "\n",
    "3. Evaluasi Model Awal:\n",
    "\n",
    "Model awal dilatih tanpa mempertimbangkan ketidakseimbangan kelas.\n",
    "Berbagai metrik evaluasi seperti akurasi, precision, recall, F1-Score, dan AUC-ROC dihitung.\n",
    "\n",
    "4. Peningkatan Kualitas Model:\n",
    "\n",
    "Model dievaluasi kembali dengan metrik-metrik yang sama setelah penerapan oversampling.\n",
    "Kesimpulan dari hasil evaluasi membantu dalam menentukan kinerja model dan penyesuaian lebih lanjut.\n",
    "\n",
    "5. Evaluasi Akhir:\n",
    "\n",
    "Metrik evaluasi termasuk akurasi, precision, recall, F1-Score, dan AUC-ROC dihitung untuk model yang telah diubah.\n",
    "Confusion matrix dan classification report memberikan gambaran rinci tentang kinerja model.\n",
    "\n",
    "\n",
    "Dalam proyek ini, model machine learning telah diimplementasikan dan dievaluasi untuk memprediksi apakah seorang nasabah akan berhenti dari bank. Berikut adalah kesimpulan dari hasil akhir:\n",
    "\n",
    "- AUC-ROC Score:\n",
    "\n",
    "Nilai AUC-ROC Score sebesar 0.8599 menunjukkan bahwa model memiliki kemampuan yang baik dalam membedakan antara kelas positif (berhenti) dan kelas negatif (tidak berhenti). Nilai yang mendekati 1 mengindikasikan kinerja model yang tinggi.\n",
    "\n",
    "- Akurasi (Accuracy Score):\n",
    "\n",
    "Akurasi sebesar 0.8675 menunjukkan bahwa sekitar 86.75% dari prediksi yang dilakukan oleh model adalah benar.\n",
    "\n",
    "- Presisi (Precision Score):\n",
    "\n",
    "Precision sebesar 0.7735 menunjukkan sekitar 77.35% dari nasabah yang diprediksi berhenti oleh model, benar-benar berhenti. Precision memberikan informasi tentang seberapa andal model dalam mengidentifikasi kelas positif.\n",
    "\n",
    "- Recall Score:\n",
    "\n",
    "Recall Score sebesar 0.4606 menunjukkan sekitar 46.06% dari seluruh nasabah yang sebenarnya berhenti telah diidentifikasi dengan benar oleh model. Recall mengukur sejauh mana model mampu mengidentifikasi seluruh jumlah instance yang sebenarnya positif dalam dataset uji.\n",
    "\n",
    "- F1-Score:\n",
    "\n",
    "F1-Score sebesar 0.5774 menunjukkan bahwa model memiliki keseimbangan yang relatif baik antara Precision dan Recall. Nilai F1-Score yang tinggi menunjukkan bahwa model mampu memberikan prediksi yang tepat dan secara efektif mengidentifikasi sebagian besar instance positif dalam dataset uji.\n",
    "\n",
    "- Confusion Matrix:\n",
    "\n",
    "Confusion matrix memberikan informasi lebih rinci tentang performa model, termasuk True Positive (TP), True Negative (TN), False Positive (FP), dan False Negative (FN).\n",
    "\n",
    "- Classification Report:\n",
    "\n",
    "Classification report memberikan ringkasan dari metrik evaluasi model untuk setiap kelas, termasuk Precision, Recall, dan F1-Score.\n",
    "\n",
    "- Analisis Tambahan:\n",
    "\n",
    "Dengan AUC-ROC Score sebesar 0.8599, model ini telah mencapai tingkat kinerja yang baik.\n",
    "Makro dan Weighted Average memberikan informasi tambahan tentang kinerja model dengan mempertimbangkan proporsi kelas."
   ]
  }
 ],
 "metadata": {
  "kernelspec": {
   "display_name": "Python 3 (ipykernel)",
   "language": "python",
   "name": "python3"
  },
  "language_info": {
   "codemirror_mode": {
    "name": "ipython",
    "version": 3
   },
   "file_extension": ".py",
   "mimetype": "text/x-python",
   "name": "python",
   "nbconvert_exporter": "python",
   "pygments_lexer": "ipython3",
   "version": "3.9.19"
  },
  "toc": {
   "base_numbering": 1,
   "nav_menu": {},
   "number_sections": true,
   "sideBar": true,
   "skip_h1_title": true,
   "title_cell": "Table of Contents",
   "title_sidebar": "Contents",
   "toc_cell": false,
   "toc_position": {},
   "toc_section_display": true,
   "toc_window_display": false
  }
 },
 "nbformat": 4,
 "nbformat_minor": 2
}
